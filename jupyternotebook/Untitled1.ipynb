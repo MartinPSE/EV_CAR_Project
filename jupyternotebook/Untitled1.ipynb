{
 "cells": [
  {
   "cell_type": "code",
   "execution_count": 1,
   "metadata": {},
   "outputs": [
    {
     "name": "stdout",
     "output_type": "stream",
     "text": [
      "---------- Start recognize license palate --------\n",
      "---------- End ----------\n"
     ]
    }
   ],
   "source": [
    "import io\n",
    "import os\n",
    "from google.cloud import vision_v1p3beta1 as vision\n",
    "from datetime import datetime\n",
    "import cv2\n",
    "\n",
    "# Setup google authen client key\n",
    "os.environ['GOOGLE_APPLICATION_CREDENTIALS'] = 'client_key.json'\n",
    "\n",
    "# Source path content all images\n",
    "def recognize_license_plate(img_path):\n",
    "\n",
    "    start_time = datetime.now()\n",
    "\n",
    "    # Read image with opencv\n",
    "    img = cv2.imread(img_path)\n",
    "\n",
    "    # Get image size\n",
    "    height, width = img.shape[:2]\n",
    "\n",
    "    # Scale image\n",
    "    img = cv2.resize(img, (800, int((height * 800) / width)))\n",
    "\n",
    "    # Show the origin image\n",
    "    cv2.imshow('Origin image', img)\n",
    "\n",
    "    # Save the image to temp file\n",
    "    cv2.imwrite(\"output.jpg\", img)\n",
    "\n",
    "    # Create new img path for google vision\n",
    "    img_path = \"output.jpg\"\n",
    "\n",
    "    # Create google vision client\n",
    "    client = vision.ImageAnnotatorClient()\n",
    "\n",
    "    # Read image file\n",
    "    with io.open(img_path, 'rb') as image_file:\n",
    "        content = image_file.read()\n",
    "\n",
    "    image = vision.types.Image(content=content)\n",
    "\n",
    "    # Recognize text\n",
    "    response = client.text_detection(image=image)\n",
    "    texts = response.text_annotations\n",
    "\n",
    "    for text in texts:\n",
    "        if len(text.description) == 7:\n",
    "            license_plate = text.description\n",
    "            print(license_plate)\n",
    "            vertices = [(vertex.x, vertex.y)\n",
    "                        for vertex in text.bounding_poly.vertices]\n",
    "\n",
    "            # Put text license plate number to image\n",
    "            cv2.putText(img, license_plate, (200, 200), cv2.FONT_HERSHEY_SIMPLEX, 2, (0, 0, 255), 3)\n",
    "\n",
    "            print(vertices)\n",
    "            # Draw rectangle around license plate\n",
    "            cv2.rectangle(img, (vertices[0][0]-10, vertices[0][1]-10), (vertices[2][0]+10, vertices[2][1]+10), (0, 255, 0), 3)\n",
    "            print('Total time: {}'.format(datetime.now() - start_time))\n",
    "            cv2.imshow('Recognize & Draw', img)\n",
    "            cv2.waitKey(0)\n",
    "\n",
    "\n",
    "print('---------- Start recognize license palate --------')\n",
    "path = '5.jpg'\n",
    "recognize_license_plate(path)\n",
    "print('---------- End ----------')"
   ]
  },
  {
   "cell_type": "code",
   "execution_count": null,
   "metadata": {},
   "outputs": [],
   "source": []
  }
 ],
 "metadata": {
  "kernelspec": {
   "display_name": "Python 3",
   "language": "python",
   "name": "python3"
  },
  "language_info": {
   "codemirror_mode": {
    "name": "ipython",
    "version": 3
   },
   "file_extension": ".py",
   "mimetype": "text/x-python",
   "name": "python",
   "nbconvert_exporter": "python",
   "pygments_lexer": "ipython3",
   "version": "3.7.3"
  }
 },
 "nbformat": 4,
 "nbformat_minor": 2
}
